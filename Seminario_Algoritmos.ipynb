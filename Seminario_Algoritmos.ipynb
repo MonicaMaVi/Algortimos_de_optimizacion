{
  "cells": [
    {
      "cell_type": "markdown",
      "metadata": {
        "colab_type": "text",
        "id": "view-in-github"
      },
      "source": [
        "<a href=\"https://colab.research.google.com/github/MonicaMaVi/Algortimos_de_optimizacion/blob/master/Seminario_Algoritmos.ipynb\" target=\"_parent\"><img src=\"https://colab.research.google.com/assets/colab-badge.svg\" alt=\"Open In Colab\"/></a>"
      ]
    },
    {
      "cell_type": "markdown",
      "metadata": {
        "id": "hVbXYX-RfPWh"
      },
      "source": [
        "# Algoritmos de optimización - Seminario<br>\n",
        "Nombre y Apellidos: Mónica Mayayo Vives  <br>\n",
        "Url: github.com/MonicaMaVi/Algortimos_de_optimizacion/Seminario_Algoritmos.ipynb<br>\n",
        "Problema: 3. Combinar cifras y operaciones\n",
        "\n",
        "Problema 3. Combinar cifras y operaciones\n",
        "• El problema consiste en analizar el siguiente problema y diseñar un algoritmo que lo resuelva.\n",
        "• Disponemos de las 9 cifras del 1 al 9 (excluimos el cero) y de los 4 signos básicos de las\n",
        "operaciones fundamentales: suma(+), resta(-), multiplicación(*) y división(/)\n",
        "• Debemos combinarlos alternativamente sin repetir ninguno de ellos para obtener una\n",
        "cantidad dada. Un ejemplo sería para obtener el 4:\n",
        "4+2-6/3*1 = 4\n",
        "• Debe analizarse el problema para encontrar todos los valores enteros posibles planteando las\n",
        "siguientes cuestiones:\n",
        "- ¿Qué valor máximo y mínimo se pueden obtener según las condiciones del problema?\n",
        "\n",
        "Se puede obtener un mínimo negativo ya que tenemos la operación menos y se pueden obtener números bastante alejados del 0, tanto negativos como positivos ya que tenemos la operación de multiplicación. En el código de abajo se adjunta el cálculo del máximo y el mínimo.\n",
        "\n",
        "- ¿Es posible encontrar todos los valores enteros posibles entre dicho mínimo y máximo?\n",
        "\n",
        "En el rango de enteros [-69, 77] no hay ningún número entero que no aparezca, si probamos con los números que están en los extremos, como -69, -68... y 77, 76... (cambiando el 77 en el código adjuntado abajo por el número que queramos probar) aparecen, por lo que podemos intuir que cuanto más nos acercamos al centro del rango (probando con 0, 1, -1) más veces van a aparecer esos números como resultado, y probándolo en el código así es. Es más probable que más operaciones den un resultado más próximo al centro del rango, en este caso el cuatro, al tener operaciones de suma y resta, por lo que si los números del extremo están, se intuye que los números centrales también estarán. \n",
        "\n",
        "He calculado en python, en el código abajo adjuntado, los números enteros que aparecen entre el máximo y el mínimo, los he guardado en un vector, he quitado los repetidos, he ordenado el vector y lo he mostrado en el resultado del programa, por lo que se puede ver que efectivamente aparecen todos los números enteros entre el máximo y el mínimo.\n",
        "\n",
        "Si calculáramos el mínimo y el máximo cogiendo números decimales (nos daría el mínimo un valor de -70.71 y el máximo un valor de 78.83), allí sí que encontramos que el 78 que está entre el máximo y el mínimo pero no aparecen como resultado de ninguna fórmula obtenida."
      ]
    },
    {
      "cell_type": "code",
      "execution_count": null,
      "metadata": {
        "id": "AiskKkzZfy4e"
      },
      "outputs": [
        {
          "name": "stdout",
          "output_type": "stream",
          "text": [
            "7/1-2+8*9\n",
            "77.0\n",
            "7/1-2+9*8\n",
            "77.0\n",
            "7/1+8*9-2\n",
            "77.0\n",
            "7/1+9*8-2\n",
            "77.0\n",
            "7-2/1+8*9\n",
            "77.0\n",
            "7-2/1+9*8\n",
            "77.0\n",
            "7-2+8/1*9\n",
            "77.0\n",
            "7-2+8*9/1\n",
            "77.0\n",
            "7-2+9/1*8\n",
            "77.0\n",
            "7-2+9*8/1\n",
            "77.0\n",
            "7-4/2+8*9\n",
            "77.0\n",
            "7-4/2+9*8\n",
            "77.0\n",
            "7-6/3+8*9\n",
            "77.0\n",
            "7-6/3+9*8\n",
            "77.0\n",
            "7+8/1*9-2\n",
            "77.0\n",
            "7+8*9/1-2\n",
            "77.0\n",
            "7+8*9-2/1\n",
            "77.0\n",
            "7+8*9-4/2\n",
            "77.0\n",
            "7+8*9-6/3\n",
            "77.0\n",
            "7+9/1*8-2\n",
            "77.0\n",
            "7+9*8/1-2\n",
            "77.0\n",
            "7+9*8-2/1\n",
            "77.0\n",
            "7+9*8-4/2\n",
            "77.0\n",
            "7+9*8-6/3\n",
            "77.0\n",
            "8/1*9-2+7\n",
            "77.0\n",
            "8/1*9+7-2\n",
            "77.0\n",
            "8*9/1-2+7\n",
            "77.0\n",
            "8*9/1+7-2\n",
            "77.0\n",
            "8*9-2/1+7\n",
            "77.0\n",
            "8*9-2+7/1\n",
            "77.0\n",
            "8*9-4/2+7\n",
            "77.0\n",
            "8*9-6/3+7\n",
            "77.0\n",
            "8*9+7/1-2\n",
            "77.0\n",
            "8*9+7-2/1\n",
            "77.0\n",
            "8*9+7-4/2\n",
            "77.0\n",
            "8*9+7-6/3\n",
            "77.0\n",
            "9/1*8-2+7\n",
            "77.0\n",
            "9/1*8+7-2\n",
            "77.0\n",
            "9*8/1-2+7\n",
            "77.0\n",
            "9*8/1+7-2\n",
            "77.0\n",
            "9*8-2/1+7\n",
            "77.0\n",
            "9*8-2+7/1\n",
            "77.0\n",
            "9*8-4/2+7\n",
            "77.0\n",
            "9*8-6/3+7\n",
            "77.0\n",
            "9*8+7/1-2\n",
            "77.0\n",
            "9*8+7-2/1\n",
            "77.0\n",
            "9*8+7-4/2\n",
            "77.0\n",
            "9*8+7-6/3\n",
            "77.0\n",
            "Total de permutaciones: 362880\n",
            "Mínimo: -69.0 Máximo: 77.0\n",
            "Valores enteros entre el mínimo y el máximo [-69.0, -68.0, -67.0, -66.0, -65.0, -64.0, -63.0, -62.0, -61.0, -60.0, -59.0, -58.0, -57.0, -56.0, -55.0, -54.0, -53.0, -52.0, -51.0, -50.0, -49.0, -48.0, -47.0, -46.0, -45.0, -44.0, -43.0, -42.0, -41.0, -40.0, -39.0, -38.0, -37.0, -36.0, -35.0, -34.0, -33.0, -32.0, -31.0, -30.0, -29.0, -28.0, -27.0, -26.0, -25.0, -24.0, -23.0, -22.0, -21.0, -20.0, -19.0, -18.0, -17.0, -16.0, -15.0, -14.0, -13.0, -12.0, -11.0, -10.0, -9.0, -8.0, -7.0, -6.0, -5.0, -4.0, -3.0, -2.0, -1.0, 0.0, 1.0, 2.0, 3.0, 4.0, 5.0, 6.0, 7.0, 8.0, 9.0, 10.0, 11.0, 12.0, 13.0, 14.0, 15.0, 16.0, 17.0, 18.0, 19.0, 20.0, 21.0, 22.0, 23.0, 24.0, 25.0, 26.0, 27.0, 28.0, 29.0, 30.0, 31.0, 32.0, 33.0, 34.0, 35.0, 36.0, 37.0, 38.0, 39.0, 40.0, 41.0, 42.0, 43.0, 44.0, 45.0, 46.0, 47.0, 48.0, 49.0, 50.0, 51.0, 52.0, 53.0, 54.0, 55.0, 56.0, 57.0, 58.0, 59.0, 60.0, 61.0, 62.0, 63.0, 64.0, 65.0, 66.0, 67.0, 68.0, 69.0, 70.0, 71.0, 72.0, 73.0, 74.0, 75.0, 76.0, 77.0]\n"
          ]
        }
      ],
      "source": [
        "import itertools\n",
        "\n",
        "N=list(range(1, 10))\n",
        "signos = ['+', '-', '*', '/']\n",
        "enteros=[]\n",
        "minimo = 0\n",
        "maximo = 0\n",
        "\n",
        "# Permutaciones sin repetición de los números del 1 al 9 cogidos del 5 en 5\n",
        "permuNum = list(itertools.permutations(N, 5))\n",
        "# Permutaciones sin repetición de todos los signos\n",
        "permuSignos = list(itertools.permutations(signos))\n",
        "\n",
        "# Calculamos todas las fórmulas posibles\n",
        "for i in permuNum: \n",
        "    for j in permuSignos: \n",
        "        formula = f\"{i[0]}{j[0]}{i[1]}{j[1]}{i[2]}{j[2]}{i[3]}{j[3]}{i[4]}\"\n",
        "        resultado = eval(formula)\n",
        "        # Cogemos solo números enteros\n",
        "        if resultado==int(resultado):\n",
        "            # vamos a crear un vector de resultados enteros para encontrar \n",
        "            # todos los valores enteros posibles entre el mínimo y el máximo.\n",
        "            enteros.append(resultado)\n",
        "            sin_repetidos = list(set(enteros)) # Quitamos los repetidos\n",
        "            sin_repetidos.sort() # Lo ordenamos\n",
        "            #Aquí mostraremos los resultados y las fórmulas que sean igual al número que elijamos, en este caso el 77\n",
        "            if resultado == 77:\n",
        "                print(formula)\n",
        "                print(resultado)\n",
        "            minimo = min(resultado,minimo)\n",
        "            maximo = max(resultado,maximo)   \n",
        "\n",
        "# Opcional: imprimir la cantidad total de permutaciones\n",
        "print(f\"Total de permutaciones: {len(permuNum)*len(permuSignos)}\")\n",
        "# Mostramos mínimo y máximo\n",
        "print(\"Mínimo:\", minimo, \"Máximo:\", maximo)\n",
        "# Mostramos valores enteros entre el mínimo y el máximo\n",
        "print(\"Valores enteros entre el mínimo y el máximo\", sin_repetidos)"
      ]
    },
    {
      "cell_type": "code",
      "execution_count": null,
      "metadata": {},
      "outputs": [],
      "source": []
    },
    {
      "cell_type": "markdown",
      "metadata": {
        "id": "3_-exlrTgLd-"
      },
      "source": [
        "(*)¿Cuantas posibilidades hay sin tener en cuenta las restricciones?<br>\n",
        "\n",
        "¿Cuantas posibilidades hay teniendo en cuenta todas las restricciones.\n"
      ]
    },
    {
      "cell_type": "markdown",
      "metadata": {
        "id": "WfCUqJyKhPcw"
      },
      "source": [
        "(*)¿Cuantas posibilidades hay sin tener en cuenta las restricciones?<br>\n",
        "\n",
        "El número total de posibilidades son las permutaciones de los números (15120) multiplicadas por las permutaciones de los signos (24) que dan un total de 362880. Las permutaciones de los nueve números cogidos de cinco en cinco nos dan una cantidad de 15120 ya que nos quedaría una operación de factorial de 9 en el numerador y en el denominador (9-5)!. Las permutaciones de los cuatro signos cogidos de cuatro en cuatro son 24 posibilidades, ya que sería 4! en el numerador y en el denominador (4-4)! = 0! que es 1. Por último multiplicaríamos 15120*24 lo que nos da los 362880 números totales.\n",
        "\n",
        "¿Cuantas posibilidades hay teniendo en cuenta todas las restricciones?\n",
        "\n",
        "Teniendo encuenta la restricción de que solo cogemos números enteros, sería difícil calcularlo matemáticamente, por lo que esa operación la he hecho programando el ejercicio en python (que adjunto abajo) y me da un total de 90000 posibilidades. Otra restricción que plantea el ejercicio sería mirar que la suma de esas fórmulas me dé un cierto número, por ejemplo el 4, también lo he calculado en el ejercicio en python que adjunto, se podría calcular para cualquier número cambiando en el código el 4 por cualquier otro número. "
      ]
    },
    {
      "cell_type": "code",
      "execution_count": 6,
      "metadata": {
        "id": "iq6Fe32MgpDX"
      },
      "outputs": [
        {
          "name": "stdout",
          "output_type": "stream",
          "text": [
            "Número total de permutaciones: 362880\n",
            "Número total de permutaciones que son números enteros: 90000\n",
            "Número total de permutaciones que suman 4: 2112\n"
          ]
        }
      ],
      "source": [
        "import itertools\n",
        "\n",
        "N=list(range(1, 10))\n",
        "signos = ['+', '-', '*', '/']\n",
        "cantidad = 0\n",
        "cantidad4 = 0\n",
        "\n",
        "# Permutaciones sin repetición de los números del 1 al 9 cogidos del 5 en 5\n",
        "permuNum = list(itertools.permutations(N, 5))\n",
        "# Permutaciones sin repetición de todos los signos\n",
        "permuSignos = list(itertools.permutations(signos))\n",
        "\n",
        "# Calculamos todas las fórmulas posibles\n",
        "for i in permuNum: \n",
        "    for j in permuSignos: \n",
        "        formula = f\"{i[0]}{j[0]}{i[1]}{j[1]}{i[2]}{j[2]}{i[3]}{j[3]}{i[4]}\"\n",
        "        resultado = eval(formula)\n",
        "        # Cogemos solo números enteros\n",
        "        if resultado==int(resultado):\n",
        "            cantidad +=1 \n",
        "            #Aquí mostraremos los resultados y las fórmulas que sean igual al número que elijamos, en este caso el 4\n",
        "            if resultado == 4:\n",
        "                cantidad4 +=1\n",
        "\n",
        "# Opcional: imprimir la cantidad total de permutaciones\n",
        "print(f\"Número total de permutaciones: {len(permuNum)*len(permuSignos)}\")\n",
        "print(f\"Número total de permutaciones que son números enteros:\", cantidad)\n",
        "print(f\"Número total de permutaciones que suman 4:\", cantidad4)\n"
      ]
    },
    {
      "cell_type": "markdown",
      "metadata": {
        "id": "dzynfVJahHoY"
      },
      "source": [
        "Modelo para el espacio de soluciones<br>\n",
        "(*) ¿Cual es la estructura de datos que mejor se adapta al problema? Argumentalo.(Es posible que hayas elegido una al principio y veas la necesidad de cambiar, arguentalo)\n"
      ]
    },
    {
      "cell_type": "markdown",
      "metadata": {
        "id": "xFIJrOwKi2Ti"
      },
      "source": [
        "La estructura de datos que mejor se adapta es un f-string (formatted string) para poder manejarlo con la función eval, al principio elegí un vector para manejar la información de las fórmulas pero pronto me dí cuenta que no me servía para poder transformarlo en una fórmula operable con eval."
      ]
    },
    {
      "cell_type": "code",
      "execution_count": 37,
      "metadata": {
        "id": "38c-7-ejhJmA"
      },
      "outputs": [],
      "source": [
        "formula = f\"{i[0]}{j[0]}{i[1]}{j[1]}{i[2]}{j[2]}{i[3]}{j[3]}{i[4]}\""
      ]
    },
    {
      "cell_type": "markdown",
      "metadata": {
        "id": "7Z9U2W7bi-XS"
      },
      "source": [
        "Según el modelo para el espacio de soluciones<br>\n",
        "(*)¿Cual es la función objetivo?\n",
        "\n",
        "(*)¿Es un problema de maximización o minimización?"
      ]
    },
    {
      "cell_type": "markdown",
      "metadata": {
        "id": "hBalWLM7j1_d"
      },
      "source": [
        "La función objetivo que se ha marcado en el enunciado es calcular el máximo y el mínimo de los resultados de las distintas fórmulas que se van creando, por lo que tenemos un problema tanto de maximización como de minimización, ya que podemos escribir la fórmula como una función, que en nuestro caso las incógnitas no serían solo los dígitos sino también los signos, y tenemos que encontrar el máximo y el mínimo de esa función. Adjunto abajo el código del cálculo del máximo y el mínimo."
      ]
    },
    {
      "cell_type": "code",
      "execution_count": 39,
      "metadata": {
        "id": "pDA-rg3Gj5Lz"
      },
      "outputs": [
        {
          "name": "stdout",
          "output_type": "stream",
          "text": [
            "Mínimo: -69.0 Máximo: 77.0\n"
          ]
        }
      ],
      "source": [
        "import itertools\n",
        "\n",
        "N=list(range(1, 10))\n",
        "signos = ['+', '-', '*', '/']\n",
        "minimo = 0\n",
        "maximo = 0\n",
        "\n",
        "# Permutaciones sin repetición de los números del 1 al 9 cogidos del 5 en 5\n",
        "permuNum = list(itertools.permutations(N, 5))\n",
        "# Permutaciones sin repetición de todos los signos\n",
        "permuSignos = list(itertools.permutations(signos))\n",
        "\n",
        "# Calculamos todas las fórmulas posibles\n",
        "for i in permuNum: \n",
        "    for j in permuSignos: \n",
        "        formula = f\"{i[0]}{j[0]}{i[1]}{j[1]}{i[2]}{j[2]}{i[3]}{j[3]}{i[4]}\"\n",
        "        resultado = eval(formula)\n",
        "        # Cogemos solo números enteros\n",
        "        if resultado==int(resultado):\n",
        "            minimo = min(resultado,minimo)\n",
        "            maximo = max(resultado,maximo)   \n",
        "\n",
        "# Mostramos el mínimo y máximo\n",
        "print(\"Mínimo:\", minimo, \"Máximo:\", maximo)"
      ]
    },
    {
      "cell_type": "markdown",
      "metadata": {
        "id": "rlnTYgY1j6I2"
      },
      "source": [
        "Diseña un algoritmo para resolver el problema por fuerza bruta"
      ]
    },
    {
      "cell_type": "markdown",
      "metadata": {
        "id": "70rDgxYXkC8r"
      },
      "source": [
        "(Código adjuntado abajo) Para el problema por fuerza bruta generamos primero 2 listas de tuplas, una de números, donde las tuplas serán de longitud 5 y otra de signos, que será un listado de tuplas de longitud 4. El problema se puede realizar con 2 for, uno para recorrer los números y otro para recorrer los signos, dentro de estos bucles iremos comprobando si el nuevo número entero calculado es menor que el mínimo o mayor que el máximo en cuyo caso lo estableceremos como mínimo o máximo, según corresponda."
      ]
    },
    {
      "cell_type": "code",
      "execution_count": null,
      "metadata": {
        "id": "CJb5sQ0qkENy"
      },
      "outputs": [],
      "source": [
        "import itertools\n",
        "\n",
        "N=list(range(1, 10))\n",
        "signos = ['+', '-', '*', '/']\n",
        "minimo = 0\n",
        "maximo = 0\n",
        "\n",
        "# Permutaciones sin repetición de los números del 1 al 9 cogidos del 5 en 5\n",
        "permuNum = list(itertools.permutations(N, 5))\n",
        "# Permutaciones sin repetición de todos los signos\n",
        "permuSignos = list(itertools.permutations(signos))\n",
        "\n",
        "# Calculamos todas las fórmulas posibles\n",
        "for i in permuNum: \n",
        "    for j in permuSignos: \n",
        "        formula = f\"{i[0]}{j[0]}{i[1]}{j[1]}{i[2]}{j[2]}{i[3]}{j[3]}{i[4]}\"\n",
        "        resultado = eval(formula)\n",
        "        # Cogemos solo números enteros\n",
        "        if resultado==int(resultado):\n",
        "            minimo = min(resultado,minimo)\n",
        "            maximo = max(resultado,maximo)   \n",
        "\n",
        "# Mostramos el mínimo y máximo\n",
        "print(\"Mínimo:\", minimo, \"Máximo:\", maximo)"
      ]
    },
    {
      "cell_type": "markdown",
      "metadata": {
        "id": "tgrnsC2nkFa8"
      },
      "source": [
        "Calcula la complejidad del algoritmo por fuerza bruta"
      ]
    },
    {
      "cell_type": "markdown",
      "metadata": {
        "id": "9eUd3xwckP68"
      },
      "source": [
        "Respuesta"
      ]
    },
    {
      "cell_type": "code",
      "execution_count": null,
      "metadata": {
        "id": "rvZWwL-ckRST"
      },
      "outputs": [],
      "source": []
    },
    {
      "cell_type": "markdown",
      "metadata": {
        "id": "txbrmLmskReM"
      },
      "source": [
        "(*)Diseña un algoritmo que mejore la complejidad del algortimo por fuerza bruta. Argumenta porque crees que mejora el algoritmo por fuerza bruta"
      ]
    },
    {
      "cell_type": "markdown",
      "metadata": {
        "id": "hLrVwt5QkZPD"
      },
      "source": [
        "Respuesta"
      ]
    },
    {
      "cell_type": "code",
      "execution_count": null,
      "metadata": {
        "id": "m1eyM21Vkabg"
      },
      "outputs": [],
      "source": []
    },
    {
      "cell_type": "markdown",
      "metadata": {
        "id": "eGDB4K6uk1iN"
      },
      "source": [
        "(*)Calcula la complejidad del algoritmo"
      ]
    },
    {
      "cell_type": "markdown",
      "metadata": {
        "id": "NhpTh_BPk1ms"
      },
      "source": [
        "Respuesta"
      ]
    },
    {
      "cell_type": "code",
      "execution_count": null,
      "metadata": {
        "id": "nREzhkStlCq8"
      },
      "outputs": [],
      "source": []
    },
    {
      "cell_type": "markdown",
      "metadata": {
        "id": "3M6QjTsSkmYe"
      },
      "source": [
        "Según el problema (y tenga sentido), diseña un juego de datos de entrada aleatorios"
      ]
    },
    {
      "cell_type": "markdown",
      "metadata": {
        "id": "Jc3_OlyNkvjZ"
      },
      "source": [
        "Respuesta"
      ]
    },
    {
      "cell_type": "code",
      "execution_count": null,
      "metadata": {
        "id": "sJ-N2etjkyWc"
      },
      "outputs": [],
      "source": []
    },
    {
      "cell_type": "markdown",
      "metadata": {
        "id": "zy5ZROmjlGo1"
      },
      "source": [
        "Aplica el algoritmo al juego de datos generado"
      ]
    },
    {
      "cell_type": "markdown",
      "metadata": {
        "id": "_Cmj-PVylMsa"
      },
      "source": [
        "Respuesta"
      ]
    },
    {
      "cell_type": "code",
      "execution_count": null,
      "metadata": {
        "id": "Jkx8GeiYlUz1"
      },
      "outputs": [],
      "source": []
    },
    {
      "cell_type": "markdown",
      "metadata": {
        "id": "eTFWUJQrtGcv"
      },
      "source": [
        "Enumera las referencias que has utilizado(si ha sido necesario) para llevar a cabo el trabajo"
      ]
    },
    {
      "cell_type": "markdown",
      "metadata": {
        "id": "YKQ_mRBttWsP"
      },
      "source": [
        "Respuesta"
      ]
    },
    {
      "cell_type": "markdown",
      "metadata": {
        "id": "kAkDPUyRtYyH"
      },
      "source": [
        "Describe brevemente las lineas de como crees que es posible avanzar en el estudio del problema. Ten en cuenta incluso posibles variaciones del problema y/o variaciones al alza del tamaño"
      ]
    },
    {
      "cell_type": "markdown",
      "metadata": {
        "id": "IE0uZmo-tZu-"
      },
      "source": [
        "Respuesta"
      ]
    }
  ],
  "metadata": {
    "colab": {
      "include_colab_link": true,
      "provenance": []
    },
    "kernelspec": {
      "display_name": "Python 3",
      "name": "python3"
    },
    "language_info": {
      "codemirror_mode": {
        "name": "ipython",
        "version": 3
      },
      "file_extension": ".py",
      "mimetype": "text/x-python",
      "name": "python",
      "nbconvert_exporter": "python",
      "pygments_lexer": "ipython3",
      "version": "3.11.5"
    }
  },
  "nbformat": 4,
  "nbformat_minor": 0
}
